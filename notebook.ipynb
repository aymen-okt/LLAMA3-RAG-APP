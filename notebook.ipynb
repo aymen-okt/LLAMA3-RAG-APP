{
 "cells": [
  {
   "cell_type": "code",
   "execution_count": 1,
   "metadata": {},
   "outputs": [
    {
     "name": "stdout",
     "output_type": "stream",
     "text": [
      "Collecting langchain_community\n",
      "  Downloading langchain_community-0.2.6-py3-none-any.whl (2.2 MB)\n",
      "     ---------------------------------------- 2.2/2.2 MB 2.1 MB/s eta 0:00:00\n",
      "Requirement already satisfied: langsmith<0.2.0,>=0.1.0 in c:\\users\\setup game\\appdata\\local\\programs\\python\\python39\\lib\\site-packages (from langchain_community) (0.1.83)\n",
      "Requirement already satisfied: langchain<0.3.0,>=0.2.6 in c:\\users\\setup game\\appdata\\local\\programs\\python\\python39\\lib\\site-packages (from langchain_community) (0.2.6)\n",
      "Requirement already satisfied: numpy<2,>=1 in c:\\users\\setup game\\appdata\\local\\programs\\python\\python39\\lib\\site-packages (from langchain_community) (1.26.4)\n",
      "Requirement already satisfied: PyYAML>=5.3 in c:\\users\\setup game\\appdata\\local\\programs\\python\\python39\\lib\\site-packages (from langchain_community) (6.0.1)\n",
      "Requirement already satisfied: SQLAlchemy<3,>=1.4 in c:\\users\\setup game\\appdata\\local\\programs\\python\\python39\\lib\\site-packages (from langchain_community) (2.0.31)\n",
      "Collecting dataclasses-json<0.7,>=0.5.7\n",
      "  Downloading dataclasses_json-0.6.7-py3-none-any.whl (28 kB)\n",
      "Requirement already satisfied: aiohttp<4.0.0,>=3.8.3 in c:\\users\\setup game\\appdata\\local\\programs\\python\\python39\\lib\\site-packages (from langchain_community) (3.9.5)\n",
      "Requirement already satisfied: requests<3,>=2 in c:\\users\\setup game\\appdata\\local\\programs\\python\\python39\\lib\\site-packages (from langchain_community) (2.32.3)\n",
      "Requirement already satisfied: langchain-core<0.3.0,>=0.2.10 in c:\\users\\setup game\\appdata\\local\\programs\\python\\python39\\lib\\site-packages (from langchain_community) (0.2.11)\n",
      "Requirement already satisfied: tenacity!=8.4.0,<9.0.0,>=8.1.0 in c:\\users\\setup game\\appdata\\local\\programs\\python\\python39\\lib\\site-packages (from langchain_community) (8.4.2)\n",
      "Requirement already satisfied: aiosignal>=1.1.2 in c:\\users\\setup game\\appdata\\local\\programs\\python\\python39\\lib\\site-packages (from aiohttp<4.0.0,>=3.8.3->langchain_community) (1.3.1)\n",
      "Requirement already satisfied: frozenlist>=1.1.1 in c:\\users\\setup game\\appdata\\local\\programs\\python\\python39\\lib\\site-packages (from aiohttp<4.0.0,>=3.8.3->langchain_community) (1.4.1)\n",
      "Requirement already satisfied: attrs>=17.3.0 in c:\\users\\setup game\\appdata\\local\\programs\\python\\python39\\lib\\site-packages (from aiohttp<4.0.0,>=3.8.3->langchain_community) (23.2.0)\n",
      "Requirement already satisfied: multidict<7.0,>=4.5 in c:\\users\\setup game\\appdata\\local\\programs\\python\\python39\\lib\\site-packages (from aiohttp<4.0.0,>=3.8.3->langchain_community) (6.0.5)\n",
      "Requirement already satisfied: yarl<2.0,>=1.0 in c:\\users\\setup game\\appdata\\local\\programs\\python\\python39\\lib\\site-packages (from aiohttp<4.0.0,>=3.8.3->langchain_community) (1.9.4)\n",
      "Requirement already satisfied: async-timeout<5.0,>=4.0 in c:\\users\\setup game\\appdata\\local\\programs\\python\\python39\\lib\\site-packages (from aiohttp<4.0.0,>=3.8.3->langchain_community) (4.0.3)\n",
      "Collecting typing-inspect<1,>=0.4.0\n",
      "  Downloading typing_inspect-0.9.0-py3-none-any.whl (8.8 kB)\n",
      "Collecting marshmallow<4.0.0,>=3.18.0\n",
      "  Downloading marshmallow-3.21.3-py3-none-any.whl (49 kB)\n",
      "     ---------------------------------------- 49.2/49.2 KB 2.4 MB/s eta 0:00:00\n",
      "Requirement already satisfied: langchain-text-splitters<0.3.0,>=0.2.0 in c:\\users\\setup game\\appdata\\local\\programs\\python\\python39\\lib\\site-packages (from langchain<0.3.0,>=0.2.6->langchain_community) (0.2.2)\n",
      "Requirement already satisfied: pydantic<3,>=1 in c:\\users\\setup game\\appdata\\local\\programs\\python\\python39\\lib\\site-packages (from langchain<0.3.0,>=0.2.6->langchain_community) (2.8.0)\n",
      "Requirement already satisfied: jsonpatch<2.0,>=1.33 in c:\\users\\setup game\\appdata\\local\\programs\\python\\python39\\lib\\site-packages (from langchain-core<0.3.0,>=0.2.10->langchain_community) (1.33)\n",
      "Requirement already satisfied: packaging<25,>=23.2 in c:\\users\\setup game\\appdata\\local\\programs\\python\\python39\\lib\\site-packages (from langchain-core<0.3.0,>=0.2.10->langchain_community) (24.1)\n",
      "Requirement already satisfied: orjson<4.0.0,>=3.9.14 in c:\\users\\setup game\\appdata\\local\\programs\\python\\python39\\lib\\site-packages (from langsmith<0.2.0,>=0.1.0->langchain_community) (3.10.6)\n",
      "Requirement already satisfied: idna<4,>=2.5 in c:\\users\\setup game\\appdata\\local\\programs\\python\\python39\\lib\\site-packages (from requests<3,>=2->langchain_community) (3.7)\n",
      "Requirement already satisfied: urllib3<3,>=1.21.1 in c:\\users\\setup game\\appdata\\local\\programs\\python\\python39\\lib\\site-packages (from requests<3,>=2->langchain_community) (2.2.2)\n",
      "Requirement already satisfied: certifi>=2017.4.17 in c:\\users\\setup game\\appdata\\local\\programs\\python\\python39\\lib\\site-packages (from requests<3,>=2->langchain_community) (2024.6.2)\n",
      "Requirement already satisfied: charset-normalizer<4,>=2 in c:\\users\\setup game\\appdata\\local\\programs\\python\\python39\\lib\\site-packages (from requests<3,>=2->langchain_community) (3.3.2)\n",
      "Requirement already satisfied: greenlet!=0.4.17 in c:\\users\\setup game\\appdata\\local\\programs\\python\\python39\\lib\\site-packages (from SQLAlchemy<3,>=1.4->langchain_community) (3.0.3)\n",
      "Requirement already satisfied: typing-extensions>=4.6.0 in c:\\users\\setup game\\appdata\\local\\programs\\python\\python39\\lib\\site-packages (from SQLAlchemy<3,>=1.4->langchain_community) (4.12.2)\n",
      "Requirement already satisfied: jsonpointer>=1.9 in c:\\users\\setup game\\appdata\\local\\programs\\python\\python39\\lib\\site-packages (from jsonpatch<2.0,>=1.33->langchain-core<0.3.0,>=0.2.10->langchain_community) (3.0.0)\n",
      "Requirement already satisfied: pydantic-core==2.20.0 in c:\\users\\setup game\\appdata\\local\\programs\\python\\python39\\lib\\site-packages (from pydantic<3,>=1->langchain<0.3.0,>=0.2.6->langchain_community) (2.20.0)\n",
      "Requirement already satisfied: annotated-types>=0.4.0 in c:\\users\\setup game\\appdata\\local\\programs\\python\\python39\\lib\\site-packages (from pydantic<3,>=1->langchain<0.3.0,>=0.2.6->langchain_community) (0.7.0)\n",
      "Collecting mypy-extensions>=0.3.0\n",
      "  Downloading mypy_extensions-1.0.0-py3-none-any.whl (4.7 kB)\n",
      "Installing collected packages: mypy-extensions, marshmallow, typing-inspect, dataclasses-json, langchain_community\n",
      "Successfully installed dataclasses-json-0.6.7 langchain_community-0.2.6 marshmallow-3.21.3 mypy-extensions-1.0.0 typing-inspect-0.9.0\n",
      "Note: you may need to restart the kernel to use updated packages.\n"
     ]
    },
    {
     "name": "stderr",
     "output_type": "stream",
     "text": [
      "WARNING: You are using pip version 22.0.4; however, version 24.1.1 is available.\n",
      "You should consider upgrading via the 'c:\\Users\\Setup Game\\AppData\\Local\\Programs\\Python\\Python39\\python.exe -m pip install --upgrade pip' command.\n"
     ]
    }
   ],
   "source": [
    "pip install langchain_community"
   ]
  },
  {
   "cell_type": "code",
   "execution_count": 2,
   "metadata": {},
   "outputs": [
    {
     "name": "stdout",
     "output_type": "stream",
     "text": [
      "Collecting chainlit\n",
      "  Downloading chainlit-1.1.306-py3-none-any.whl (4.3 MB)\n",
      "     ---------------------------------------- 4.3/4.3 MB 493.7 kB/s eta 0:00:00\n",
      "Collecting python-socketio<6.0.0,>=5.11.0\n",
      "  Downloading python_socketio-5.11.3-py3-none-any.whl (76 kB)\n",
      "     ---------------------------------------- 76.2/76.2 KB 1.0 MB/s eta 0:00:00\n",
      "Requirement already satisfied: nest-asyncio<2.0.0,>=1.5.6 in c:\\users\\setup game\\appdata\\roaming\\python\\python39\\site-packages (from chainlit) (1.6.0)\n",
      "Collecting uvicorn<0.26.0,>=0.25.0\n",
      "  Downloading uvicorn-0.25.0-py3-none-any.whl (60 kB)\n",
      "     ---------------------------------------- 60.3/60.3 KB 1.1 MB/s eta 0:00:00\n",
      "Requirement already satisfied: click<9.0.0,>=8.1.3 in c:\\users\\setup game\\appdata\\local\\programs\\python\\python39\\lib\\site-packages (from chainlit) (8.1.7)\n",
      "Collecting watchfiles<0.21.0,>=0.20.0\n",
      "  Downloading watchfiles-0.20.0-cp37-abi3-win_amd64.whl (276 kB)\n",
      "     -------------------------------------- 276.7/276.7 KB 1.1 MB/s eta 0:00:00\n",
      "Requirement already satisfied: python-dotenv<2.0.0,>=1.0.0 in c:\\users\\setup game\\appdata\\local\\programs\\python\\python39\\lib\\site-packages (from chainlit) (1.0.1)\n",
      "Collecting uptrace<2.0.0,>=1.22.0\n",
      "  Downloading uptrace-1.24.0-py3-none-any.whl (8.6 kB)\n",
      "Collecting asyncer<0.0.3,>=0.0.2\n",
      "  Downloading asyncer-0.0.2-py3-none-any.whl (8.3 kB)\n",
      "Collecting lazify<0.5.0,>=0.4.0\n",
      "  Downloading Lazify-0.4.0-py2.py3-none-any.whl (3.1 kB)\n",
      "Requirement already satisfied: pydantic<3,>=1 in c:\\users\\setup game\\appdata\\local\\programs\\python\\python39\\lib\\site-packages (from chainlit) (2.8.0)\n",
      "Requirement already satisfied: starlette<0.38.0,>=0.37.2 in c:\\users\\setup game\\appdata\\local\\programs\\python\\python39\\lib\\site-packages (from chainlit) (0.37.2)\n",
      "Collecting syncer<3.0.0,>=2.0.3\n",
      "  Downloading syncer-2.0.3.tar.gz (11 kB)\n",
      "  Preparing metadata (setup.py): started\n",
      "  Preparing metadata (setup.py): finished with status 'done'\n",
      "Collecting literalai==0.0.607\n",
      "  Downloading literalai-0.0.607.tar.gz (49 kB)\n",
      "     ---------------------------------------- 49.7/49.7 KB 1.3 MB/s eta 0:00:00\n",
      "  Preparing metadata (setup.py): started\n",
      "  Preparing metadata (setup.py): finished with status 'done'\n",
      "Collecting pyjwt<3.0.0,>=2.8.0\n",
      "  Downloading PyJWT-2.8.0-py3-none-any.whl (22 kB)\n",
      "Collecting aiofiles<24.0.0,>=23.1.0\n",
      "  Downloading aiofiles-23.2.1-py3-none-any.whl (15 kB)\n",
      "Requirement already satisfied: numpy<2.0,>=1.26 in c:\\users\\setup game\\appdata\\local\\programs\\python\\python39\\lib\\site-packages (from chainlit) (1.26.4)\n",
      "Requirement already satisfied: python-multipart<0.0.10,>=0.0.9 in c:\\users\\setup game\\appdata\\local\\programs\\python\\python39\\lib\\site-packages (from chainlit) (0.0.9)\n",
      "Collecting dataclasses_json<0.6.0,>=0.5.7\n",
      "  Downloading dataclasses_json-0.5.14-py3-none-any.whl (26 kB)\n",
      "Collecting filetype<2.0.0,>=1.2.0\n",
      "  Downloading filetype-1.2.0-py2.py3-none-any.whl (19 kB)\n",
      "Requirement already satisfied: tomli<3.0.0,>=2.0.1 in c:\\users\\setup game\\appdata\\local\\programs\\python\\python39\\lib\\site-packages (from chainlit) (2.0.1)\n",
      "Collecting packaging<24.0,>=23.1\n",
      "  Downloading packaging-23.2-py3-none-any.whl (53 kB)\n",
      "     ---------------------------------------- 53.0/53.0 KB 1.4 MB/s eta 0:00:00\n",
      "Collecting fastapi<0.111.0,>=0.110.1\n",
      "  Downloading fastapi-0.110.3-py3-none-any.whl (91 kB)\n",
      "     ---------------------------------------- 91.8/91.8 KB 1.3 MB/s eta 0:00:00\n",
      "Requirement already satisfied: httpx>=0.23.0 in c:\\users\\setup game\\appdata\\local\\programs\\python\\python39\\lib\\site-packages (from chainlit) (0.27.0)\n",
      "Collecting chevron>=0.14.0\n",
      "  Downloading chevron-0.14.0-py3-none-any.whl (11 kB)\n",
      "Collecting anyio<4.0.0,>=3.4.0\n",
      "  Downloading anyio-3.7.1-py3-none-any.whl (80 kB)\n",
      "     ---------------------------------------- 80.9/80.9 KB 1.1 MB/s eta 0:00:00\n",
      "Requirement already satisfied: colorama in c:\\users\\setup game\\appdata\\local\\programs\\python\\python39\\lib\\site-packages (from click<9.0.0,>=8.1.3->chainlit) (0.4.6)\n",
      "Requirement already satisfied: marshmallow<4.0.0,>=3.18.0 in c:\\users\\setup game\\appdata\\local\\programs\\python\\python39\\lib\\site-packages (from dataclasses_json<0.6.0,>=0.5.7->chainlit) (3.21.3)\n",
      "Requirement already satisfied: typing-inspect<1,>=0.4.0 in c:\\users\\setup game\\appdata\\local\\programs\\python\\python39\\lib\\site-packages (from dataclasses_json<0.6.0,>=0.5.7->chainlit) (0.9.0)\n",
      "Requirement already satisfied: typing-extensions>=4.8.0 in c:\\users\\setup game\\appdata\\local\\programs\\python\\python39\\lib\\site-packages (from fastapi<0.111.0,>=0.110.1->chainlit) (4.12.2)\n",
      "Requirement already satisfied: sniffio in c:\\users\\setup game\\appdata\\local\\programs\\python\\python39\\lib\\site-packages (from httpx>=0.23.0->chainlit) (1.3.1)\n",
      "Requirement already satisfied: idna in c:\\users\\setup game\\appdata\\local\\programs\\python\\python39\\lib\\site-packages (from httpx>=0.23.0->chainlit) (3.7)\n",
      "Requirement already satisfied: certifi in c:\\users\\setup game\\appdata\\local\\programs\\python\\python39\\lib\\site-packages (from httpx>=0.23.0->chainlit) (2024.6.2)\n",
      "Requirement already satisfied: httpcore==1.* in c:\\users\\setup game\\appdata\\local\\programs\\python\\python39\\lib\\site-packages (from httpx>=0.23.0->chainlit) (1.0.5)\n",
      "Requirement already satisfied: h11<0.15,>=0.13 in c:\\users\\setup game\\appdata\\local\\programs\\python\\python39\\lib\\site-packages (from httpcore==1.*->httpx>=0.23.0->chainlit) (0.14.0)\n",
      "Requirement already satisfied: annotated-types>=0.4.0 in c:\\users\\setup game\\appdata\\local\\programs\\python\\python39\\lib\\site-packages (from pydantic<3,>=1->chainlit) (0.7.0)\n",
      "Requirement already satisfied: pydantic-core==2.20.0 in c:\\users\\setup game\\appdata\\local\\programs\\python\\python39\\lib\\site-packages (from pydantic<3,>=1->chainlit) (2.20.0)\n",
      "Collecting python-engineio>=4.8.0\n",
      "  Downloading python_engineio-4.9.1-py3-none-any.whl (57 kB)\n",
      "     ---------------------------------------- 57.7/57.7 KB 1.0 MB/s eta 0:00:00\n",
      "Collecting bidict>=0.21.0\n",
      "  Downloading bidict-0.23.1-py3-none-any.whl (32 kB)\n",
      "Requirement already satisfied: opentelemetry-api~=1.24 in c:\\users\\setup game\\appdata\\local\\programs\\python\\python39\\lib\\site-packages (from uptrace<2.0.0,>=1.22.0->chainlit) (1.25.0)\n",
      "Requirement already satisfied: opentelemetry-instrumentation~=0.45b0 in c:\\users\\setup game\\appdata\\local\\programs\\python\\python39\\lib\\site-packages (from uptrace<2.0.0,>=1.22.0->chainlit) (0.46b0)\n",
      "Requirement already satisfied: opentelemetry-sdk~=1.24 in c:\\users\\setup game\\appdata\\local\\programs\\python\\python39\\lib\\site-packages (from uptrace<2.0.0,>=1.22.0->chainlit) (1.25.0)\n",
      "Collecting opentelemetry-exporter-otlp~=1.24\n",
      "  Downloading opentelemetry_exporter_otlp-1.25.0-py3-none-any.whl (7.0 kB)\n",
      "Requirement already satisfied: exceptiongroup in c:\\users\\setup game\\appdata\\roaming\\python\\python39\\site-packages (from anyio<4.0.0,>=3.4.0->asyncer<0.0.3,>=0.0.2->chainlit) (1.2.1)\n",
      "Requirement already satisfied: importlib-metadata<=7.1,>=6.0 in c:\\users\\setup game\\appdata\\local\\programs\\python\\python39\\lib\\site-packages (from opentelemetry-api~=1.24->uptrace<2.0.0,>=1.22.0->chainlit) (7.1.0)\n",
      "Requirement already satisfied: deprecated>=1.2.6 in c:\\users\\setup game\\appdata\\local\\programs\\python\\python39\\lib\\site-packages (from opentelemetry-api~=1.24->uptrace<2.0.0,>=1.22.0->chainlit) (1.2.14)\n",
      "Collecting opentelemetry-exporter-otlp-proto-http==1.25.0\n",
      "  Downloading opentelemetry_exporter_otlp_proto_http-1.25.0-py3-none-any.whl (16 kB)\n",
      "Requirement already satisfied: opentelemetry-exporter-otlp-proto-grpc==1.25.0 in c:\\users\\setup game\\appdata\\local\\programs\\python\\python39\\lib\\site-packages (from opentelemetry-exporter-otlp~=1.24->uptrace<2.0.0,>=1.22.0->chainlit) (1.25.0)\n",
      "Requirement already satisfied: grpcio<2.0.0,>=1.0.0 in c:\\users\\setup game\\appdata\\local\\programs\\python\\python39\\lib\\site-packages (from opentelemetry-exporter-otlp-proto-grpc==1.25.0->opentelemetry-exporter-otlp~=1.24->uptrace<2.0.0,>=1.22.0->chainlit) (1.64.1)\n",
      "Requirement already satisfied: opentelemetry-exporter-otlp-proto-common==1.25.0 in c:\\users\\setup game\\appdata\\local\\programs\\python\\python39\\lib\\site-packages (from opentelemetry-exporter-otlp-proto-grpc==1.25.0->opentelemetry-exporter-otlp~=1.24->uptrace<2.0.0,>=1.22.0->chainlit) (1.25.0)\n",
      "Requirement already satisfied: opentelemetry-proto==1.25.0 in c:\\users\\setup game\\appdata\\local\\programs\\python\\python39\\lib\\site-packages (from opentelemetry-exporter-otlp-proto-grpc==1.25.0->opentelemetry-exporter-otlp~=1.24->uptrace<2.0.0,>=1.22.0->chainlit) (1.25.0)\n",
      "Requirement already satisfied: googleapis-common-protos~=1.52 in c:\\users\\setup game\\appdata\\local\\programs\\python\\python39\\lib\\site-packages (from opentelemetry-exporter-otlp-proto-grpc==1.25.0->opentelemetry-exporter-otlp~=1.24->uptrace<2.0.0,>=1.22.0->chainlit) (1.63.2)\n",
      "Requirement already satisfied: requests~=2.7 in c:\\users\\setup game\\appdata\\local\\programs\\python\\python39\\lib\\site-packages (from opentelemetry-exporter-otlp-proto-http==1.25.0->opentelemetry-exporter-otlp~=1.24->uptrace<2.0.0,>=1.22.0->chainlit) (2.32.3)\n",
      "Requirement already satisfied: protobuf<5.0,>=3.19 in c:\\users\\setup game\\appdata\\local\\programs\\python\\python39\\lib\\site-packages (from opentelemetry-proto==1.25.0->opentelemetry-exporter-otlp-proto-grpc==1.25.0->opentelemetry-exporter-otlp~=1.24->uptrace<2.0.0,>=1.22.0->chainlit) (4.25.3)\n",
      "Requirement already satisfied: setuptools>=16.0 in c:\\users\\setup game\\appdata\\local\\programs\\python\\python39\\lib\\site-packages (from opentelemetry-instrumentation~=0.45b0->uptrace<2.0.0,>=1.22.0->chainlit) (58.1.0)\n",
      "Requirement already satisfied: wrapt<2.0.0,>=1.0.0 in c:\\users\\setup game\\appdata\\local\\programs\\python\\python39\\lib\\site-packages (from opentelemetry-instrumentation~=0.45b0->uptrace<2.0.0,>=1.22.0->chainlit) (1.16.0)\n",
      "Requirement already satisfied: opentelemetry-semantic-conventions==0.46b0 in c:\\users\\setup game\\appdata\\local\\programs\\python\\python39\\lib\\site-packages (from opentelemetry-sdk~=1.24->uptrace<2.0.0,>=1.22.0->chainlit) (0.46b0)\n",
      "Collecting simple-websocket>=0.10.0\n",
      "  Downloading simple_websocket-1.0.0-py3-none-any.whl (13 kB)\n",
      "Requirement already satisfied: mypy-extensions>=0.3.0 in c:\\users\\setup game\\appdata\\local\\programs\\python\\python39\\lib\\site-packages (from typing-inspect<1,>=0.4.0->dataclasses_json<0.6.0,>=0.5.7->chainlit) (1.0.0)\n",
      "Requirement already satisfied: zipp>=0.5 in c:\\users\\setup game\\appdata\\local\\programs\\python\\python39\\lib\\site-packages (from importlib-metadata<=7.1,>=6.0->opentelemetry-api~=1.24->uptrace<2.0.0,>=1.22.0->chainlit) (3.19.2)\n",
      "Collecting wsproto\n",
      "  Downloading wsproto-1.2.0-py3-none-any.whl (24 kB)\n",
      "Requirement already satisfied: urllib3<3,>=1.21.1 in c:\\users\\setup game\\appdata\\local\\programs\\python\\python39\\lib\\site-packages (from requests~=2.7->opentelemetry-exporter-otlp-proto-http==1.25.0->opentelemetry-exporter-otlp~=1.24->uptrace<2.0.0,>=1.22.0->chainlit) (2.2.2)\n",
      "Requirement already satisfied: charset-normalizer<4,>=2 in c:\\users\\setup game\\appdata\\local\\programs\\python\\python39\\lib\\site-packages (from requests~=2.7->opentelemetry-exporter-otlp-proto-http==1.25.0->opentelemetry-exporter-otlp~=1.24->uptrace<2.0.0,>=1.22.0->chainlit) (3.3.2)\n",
      "Using legacy 'setup.py install' for literalai, since package 'wheel' is not installed.\n",
      "Using legacy 'setup.py install' for syncer, since package 'wheel' is not installed.\n",
      "Installing collected packages: syncer, lazify, filetype, chevron, wsproto, pyjwt, packaging, bidict, anyio, aiofiles, watchfiles, uvicorn, simple-websocket, asyncer, python-engineio, literalai, fastapi, dataclasses_json, python-socketio, opentelemetry-exporter-otlp-proto-http, opentelemetry-exporter-otlp, uptrace, chainlit\n",
      "  Running setup.py install for syncer: started\n",
      "  Running setup.py install for syncer: finished with status 'done'\n",
      "  Attempting uninstall: packaging\n",
      "    Found existing installation: packaging 24.1\n",
      "    Uninstalling packaging-24.1:\n",
      "      Successfully uninstalled packaging-24.1\n",
      "  Attempting uninstall: anyio\n",
      "    Found existing installation: anyio 4.4.0\n",
      "    Uninstalling anyio-4.4.0:\n",
      "      Successfully uninstalled anyio-4.4.0\n",
      "  Attempting uninstall: watchfiles\n",
      "    Found existing installation: watchfiles 0.22.0\n",
      "    Uninstalling watchfiles-0.22.0:\n",
      "      Successfully uninstalled watchfiles-0.22.0\n",
      "  Attempting uninstall: uvicorn\n",
      "    Found existing installation: uvicorn 0.30.1\n",
      "    Uninstalling uvicorn-0.30.1:\n",
      "      Successfully uninstalled uvicorn-0.30.1\n",
      "  Running setup.py install for literalai: started\n",
      "  Running setup.py install for literalai: finished with status 'done'\n",
      "  Attempting uninstall: fastapi\n",
      "    Found existing installation: fastapi 0.111.0\n",
      "    Uninstalling fastapi-0.111.0:\n",
      "      Successfully uninstalled fastapi-0.111.0\n",
      "  Attempting uninstall: dataclasses_json\n",
      "    Found existing installation: dataclasses-json 0.6.7\n",
      "    Uninstalling dataclasses-json-0.6.7:\n",
      "      Successfully uninstalled dataclasses-json-0.6.7\n",
      "Successfully installed aiofiles-23.2.1 anyio-3.7.1 asyncer-0.0.2 bidict-0.23.1 chainlit-1.1.306 chevron-0.14.0 dataclasses_json-0.5.14 fastapi-0.110.3 filetype-1.2.0 lazify-0.4.0 literalai-0.0.607 opentelemetry-exporter-otlp-1.25.0 opentelemetry-exporter-otlp-proto-http-1.25.0 packaging-23.2 pyjwt-2.8.0 python-engineio-4.9.1 python-socketio-5.11.3 simple-websocket-1.0.0 syncer-2.0.3 uptrace-1.24.0 uvicorn-0.25.0 watchfiles-0.20.0 wsproto-1.2.0\n",
      "Note: you may need to restart the kernel to use updated packages.\n"
     ]
    },
    {
     "name": "stderr",
     "output_type": "stream",
     "text": [
      "WARNING: You are using pip version 22.0.4; however, version 24.1.1 is available.\n",
      "You should consider upgrading via the 'c:\\Users\\Setup Game\\AppData\\Local\\Programs\\Python\\Python39\\python.exe -m pip install --upgrade pip' command.\n"
     ]
    }
   ],
   "source": [
    "pip install chainlit"
   ]
  },
  {
   "cell_type": "code",
   "execution_count": 3,
   "metadata": {},
   "outputs": [
    {
     "name": "stdout",
     "output_type": "stream",
     "text": [
      "Collecting PyPDF2\n",
      "  Downloading pypdf2-3.0.1-py3-none-any.whl (232 kB)\n",
      "     ------------------------------------ 232.6/232.6 KB 617.6 kB/s eta 0:00:00\n",
      "Requirement already satisfied: typing_extensions>=3.10.0.0 in c:\\users\\setup game\\appdata\\local\\programs\\python\\python39\\lib\\site-packages (from PyPDF2) (4.12.2)\n",
      "Installing collected packages: PyPDF2\n",
      "Successfully installed PyPDF2-3.0.1\n",
      "Note: you may need to restart the kernel to use updated packages.\n"
     ]
    },
    {
     "name": "stderr",
     "output_type": "stream",
     "text": [
      "WARNING: You are using pip version 22.0.4; however, version 24.1.1 is available.\n",
      "You should consider upgrading via the 'c:\\Users\\Setup Game\\AppData\\Local\\Programs\\Python\\Python39\\python.exe -m pip install --upgrade pip' command.\n"
     ]
    }
   ],
   "source": [
    "pip install PyPDF2"
   ]
  },
  {
   "cell_type": "code",
   "execution_count": 4,
   "metadata": {},
   "outputs": [
    {
     "name": "stdout",
     "output_type": "stream",
     "text": [
      "Collecting langchain_groq\n",
      "  Downloading langchain_groq-0.1.6-py3-none-any.whl (14 kB)\n",
      "Collecting groq<1,>=0.4.1\n",
      "  Downloading groq-0.9.0-py3-none-any.whl (103 kB)\n",
      "     -------------------------------------- 103.5/103.5 KB 1.2 MB/s eta 0:00:00\n",
      "Requirement already satisfied: langchain-core<0.3,>=0.2.2 in c:\\users\\setup game\\appdata\\local\\programs\\python\\python39\\lib\\site-packages (from langchain_groq) (0.2.11)\n",
      "Requirement already satisfied: pydantic<3,>=1.9.0 in c:\\users\\setup game\\appdata\\local\\programs\\python\\python39\\lib\\site-packages (from groq<1,>=0.4.1->langchain_groq) (2.8.0)\n",
      "Collecting distro<2,>=1.7.0\n",
      "  Downloading distro-1.9.0-py3-none-any.whl (20 kB)\n",
      "Requirement already satisfied: sniffio in c:\\users\\setup game\\appdata\\local\\programs\\python\\python39\\lib\\site-packages (from groq<1,>=0.4.1->langchain_groq) (1.3.1)\n",
      "Requirement already satisfied: httpx<1,>=0.23.0 in c:\\users\\setup game\\appdata\\local\\programs\\python\\python39\\lib\\site-packages (from groq<1,>=0.4.1->langchain_groq) (0.27.0)\n",
      "Requirement already satisfied: anyio<5,>=3.5.0 in c:\\users\\setup game\\appdata\\local\\programs\\python\\python39\\lib\\site-packages (from groq<1,>=0.4.1->langchain_groq) (3.7.1)\n",
      "Requirement already satisfied: typing-extensions<5,>=4.7 in c:\\users\\setup game\\appdata\\local\\programs\\python\\python39\\lib\\site-packages (from groq<1,>=0.4.1->langchain_groq) (4.12.2)\n",
      "Requirement already satisfied: jsonpatch<2.0,>=1.33 in c:\\users\\setup game\\appdata\\local\\programs\\python\\python39\\lib\\site-packages (from langchain-core<0.3,>=0.2.2->langchain_groq) (1.33)\n",
      "Requirement already satisfied: packaging<25,>=23.2 in c:\\users\\setup game\\appdata\\local\\programs\\python\\python39\\lib\\site-packages (from langchain-core<0.3,>=0.2.2->langchain_groq) (23.2)\n",
      "Requirement already satisfied: langsmith<0.2.0,>=0.1.75 in c:\\users\\setup game\\appdata\\local\\programs\\python\\python39\\lib\\site-packages (from langchain-core<0.3,>=0.2.2->langchain_groq) (0.1.83)\n",
      "Requirement already satisfied: PyYAML>=5.3 in c:\\users\\setup game\\appdata\\local\\programs\\python\\python39\\lib\\site-packages (from langchain-core<0.3,>=0.2.2->langchain_groq) (6.0.1)\n",
      "Requirement already satisfied: tenacity!=8.4.0,<9.0.0,>=8.1.0 in c:\\users\\setup game\\appdata\\local\\programs\\python\\python39\\lib\\site-packages (from langchain-core<0.3,>=0.2.2->langchain_groq) (8.4.2)\n",
      "Requirement already satisfied: exceptiongroup in c:\\users\\setup game\\appdata\\roaming\\python\\python39\\site-packages (from anyio<5,>=3.5.0->groq<1,>=0.4.1->langchain_groq) (1.2.1)\n",
      "Requirement already satisfied: idna>=2.8 in c:\\users\\setup game\\appdata\\local\\programs\\python\\python39\\lib\\site-packages (from anyio<5,>=3.5.0->groq<1,>=0.4.1->langchain_groq) (3.7)\n",
      "Requirement already satisfied: httpcore==1.* in c:\\users\\setup game\\appdata\\local\\programs\\python\\python39\\lib\\site-packages (from httpx<1,>=0.23.0->groq<1,>=0.4.1->langchain_groq) (1.0.5)\n",
      "Requirement already satisfied: certifi in c:\\users\\setup game\\appdata\\local\\programs\\python\\python39\\lib\\site-packages (from httpx<1,>=0.23.0->groq<1,>=0.4.1->langchain_groq) (2024.6.2)\n",
      "Requirement already satisfied: h11<0.15,>=0.13 in c:\\users\\setup game\\appdata\\local\\programs\\python\\python39\\lib\\site-packages (from httpcore==1.*->httpx<1,>=0.23.0->groq<1,>=0.4.1->langchain_groq) (0.14.0)\n",
      "Requirement already satisfied: jsonpointer>=1.9 in c:\\users\\setup game\\appdata\\local\\programs\\python\\python39\\lib\\site-packages (from jsonpatch<2.0,>=1.33->langchain-core<0.3,>=0.2.2->langchain_groq) (3.0.0)\n",
      "Requirement already satisfied: orjson<4.0.0,>=3.9.14 in c:\\users\\setup game\\appdata\\local\\programs\\python\\python39\\lib\\site-packages (from langsmith<0.2.0,>=0.1.75->langchain-core<0.3,>=0.2.2->langchain_groq) (3.10.6)\n",
      "Requirement already satisfied: requests<3,>=2 in c:\\users\\setup game\\appdata\\local\\programs\\python\\python39\\lib\\site-packages (from langsmith<0.2.0,>=0.1.75->langchain-core<0.3,>=0.2.2->langchain_groq) (2.32.3)\n",
      "Requirement already satisfied: pydantic-core==2.20.0 in c:\\users\\setup game\\appdata\\local\\programs\\python\\python39\\lib\\site-packages (from pydantic<3,>=1.9.0->groq<1,>=0.4.1->langchain_groq) (2.20.0)\n",
      "Requirement already satisfied: annotated-types>=0.4.0 in c:\\users\\setup game\\appdata\\local\\programs\\python\\python39\\lib\\site-packages (from pydantic<3,>=1.9.0->groq<1,>=0.4.1->langchain_groq) (0.7.0)\n",
      "Requirement already satisfied: urllib3<3,>=1.21.1 in c:\\users\\setup game\\appdata\\local\\programs\\python\\python39\\lib\\site-packages (from requests<3,>=2->langsmith<0.2.0,>=0.1.75->langchain-core<0.3,>=0.2.2->langchain_groq) (2.2.2)\n",
      "Requirement already satisfied: charset-normalizer<4,>=2 in c:\\users\\setup game\\appdata\\local\\programs\\python\\python39\\lib\\site-packages (from requests<3,>=2->langsmith<0.2.0,>=0.1.75->langchain-core<0.3,>=0.2.2->langchain_groq) (3.3.2)\n",
      "Installing collected packages: distro, groq, langchain_groq\n",
      "Successfully installed distro-1.9.0 groq-0.9.0 langchain_groq-0.1.6\n",
      "Note: you may need to restart the kernel to use updated packages.\n"
     ]
    },
    {
     "name": "stderr",
     "output_type": "stream",
     "text": [
      "WARNING: You are using pip version 22.0.4; however, version 24.1.1 is available.\n",
      "You should consider upgrading via the 'c:\\Users\\Setup Game\\AppData\\Local\\Programs\\Python\\Python39\\python.exe -m pip install --upgrade pip' command.\n"
     ]
    }
   ],
   "source": [
    "pip install langchain_groq"
   ]
  },
  {
   "cell_type": "code",
   "execution_count": 1,
   "metadata": {},
   "outputs": [
    {
     "name": "stdout",
     "output_type": "stream",
     "text": [
      "Collecting langdetect\n",
      "  Downloading langdetect-1.0.9.tar.gz (981 kB)\n",
      "     -------------------------------------- 981.5/981.5 KB 2.1 MB/s eta 0:00:00\n",
      "  Preparing metadata (setup.py): started\n",
      "  Preparing metadata (setup.py): finished with status 'done'\n",
      "Requirement already satisfied: six in c:\\users\\setup game\\appdata\\local\\programs\\python\\python39\\lib\\site-packages (from langdetect) (1.16.0)\n",
      "Using legacy 'setup.py install' for langdetect, since package 'wheel' is not installed.\n",
      "Installing collected packages: langdetect\n",
      "  Running setup.py install for langdetect: started\n",
      "  Running setup.py install for langdetect: finished with status 'done'\n",
      "Successfully installed langdetect-1.0.9\n",
      "Note: you may need to restart the kernel to use updated packages.\n"
     ]
    },
    {
     "name": "stderr",
     "output_type": "stream",
     "text": [
      "WARNING: You are using pip version 22.0.4; however, version 24.1.2 is available.\n",
      "You should consider upgrading via the 'c:\\Users\\Setup Game\\AppData\\Local\\Programs\\Python\\Python39\\python.exe -m pip install --upgrade pip' command.\n"
     ]
    }
   ],
   "source": [
    "pip install langdetect"
   ]
  }
 ],
 "metadata": {
  "kernelspec": {
   "display_name": "Python 3",
   "language": "python",
   "name": "python3"
  },
  "language_info": {
   "codemirror_mode": {
    "name": "ipython",
    "version": 3
   },
   "file_extension": ".py",
   "mimetype": "text/x-python",
   "name": "python",
   "nbconvert_exporter": "python",
   "pygments_lexer": "ipython3",
   "version": "3.9.13"
  }
 },
 "nbformat": 4,
 "nbformat_minor": 2
}
